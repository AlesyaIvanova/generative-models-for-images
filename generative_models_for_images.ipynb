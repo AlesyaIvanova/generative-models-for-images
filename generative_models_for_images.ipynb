{
  "cells": [
    {
      "cell_type": "markdown",
      "metadata": {
        "id": "YD7sBjTO-Z-J"
      },
      "source": [
        "# Model training\n",
        "\n"
      ]
    },
    {
      "cell_type": "markdown",
      "metadata": {
        "id": "xdivrtjz1aXu"
      },
      "source": [
        "Dataset: https://www.kaggle.com/datasets/gpiosenka/100-bird-species"
      ]
    },
    {
      "cell_type": "code",
      "execution_count": null,
      "metadata": {
        "id": "uLXnfk5I_d6n"
      },
      "outputs": [],
      "source": [
        "!pip install piq"
      ]
    },
    {
      "cell_type": "code",
      "execution_count": null,
      "metadata": {
        "id": "wgaEVra-hRjs"
      },
      "outputs": [],
      "source": [
        "from google.colab import drive\n",
        "drive.mount('/content/drive')"
      ]
    },
    {
      "cell_type": "code",
      "execution_count": null,
      "metadata": {
        "id": "gZ5NiByC6pks"
      },
      "outputs": [],
      "source": [
        "!ls -lha kaggle.json"
      ]
    },
    {
      "cell_type": "code",
      "execution_count": null,
      "metadata": {
        "id": "e2gIgh2O6_Bp"
      },
      "outputs": [],
      "source": [
        "!pip install -q kaggle"
      ]
    },
    {
      "cell_type": "code",
      "execution_count": null,
      "metadata": {
        "id": "L5j1M1iO7BCY"
      },
      "outputs": [],
      "source": [
        "!mkdir -p ~/.kaggle\n",
        "!cp kaggle.json ~/.kaggle/"
      ]
    },
    {
      "cell_type": "code",
      "execution_count": null,
      "metadata": {
        "id": "WAAUWwcI7FuR"
      },
      "outputs": [],
      "source": [
        "!chmod 600 /root/.kaggle/kaggle.json"
      ]
    },
    {
      "cell_type": "code",
      "execution_count": null,
      "metadata": {
        "id": "bEePdPk-7J2F"
      },
      "outputs": [],
      "source": [
        "!pwd"
      ]
    },
    {
      "cell_type": "code",
      "execution_count": null,
      "metadata": {
        "id": "asObraoT7Ril"
      },
      "outputs": [],
      "source": [
        "!kaggle datasets download -d \"gpiosenka/100-bird-species\""
      ]
    },
    {
      "cell_type": "code",
      "execution_count": null,
      "metadata": {
        "id": "qRXL04E07yVe"
      },
      "outputs": [],
      "source": [
        "!mv \"100-bird-species.zip\" drive/MyDrive/bhw2images/"
      ]
    },
    {
      "cell_type": "code",
      "execution_count": null,
      "metadata": {
        "id": "_kz7sPQK8NUr"
      },
      "outputs": [],
      "source": [
        "!unzip \"drive/MyDrive/bhw2images/100-bird-species.zip\" -d \"drive/MyDrive/bhw2images/bird-species/\""
      ]
    },
    {
      "cell_type": "code",
      "execution_count": null,
      "metadata": {
        "id": "CpSTcIX0CCDK"
      },
      "outputs": [],
      "source": [
        "!ls 'drive/MyDrive/bhw2images/bird-species/train' | wc -l"
      ]
    },
    {
      "cell_type": "code",
      "execution_count": null,
      "metadata": {
        "id": "AEabWSQcZelk"
      },
      "outputs": [],
      "source": [
        "import argparse\n",
        "import os\n",
        "import random\n",
        "import torch\n",
        "import torch.nn as nn\n",
        "import torch.nn.parallel\n",
        "import torch.optim as optim\n",
        "import torch.utils.data\n",
        "import torchvision.datasets as dset\n",
        "import torchvision.transforms as transforms\n",
        "import torchvision.utils as vutils\n",
        "import numpy as np\n",
        "import matplotlib.pyplot as plt\n",
        "import matplotlib.animation as animation\n",
        "from IPython.display import HTML\n",
        "\n",
        "manualSeed = 2007\n",
        "random.seed(manualSeed)\n",
        "torch.manual_seed(manualSeed)\n",
        "torch.use_deterministic_algorithms(True)"
      ]
    },
    {
      "cell_type": "code",
      "execution_count": null,
      "metadata": {
        "id": "zuKg8tIsiq1Y"
      },
      "outputs": [],
      "source": [
        "dataroot = \"drive/MyDrive/bhw2images/bird-species/train/\"\n",
        "workers = 2\n",
        "batch_size = 128\n",
        "image_size = 64\n",
        "nc = 3\n",
        "nz = 100\n",
        "ngf = 64\n",
        "ndf = 64\n",
        "num_epochs = 1000\n",
        "lr = 0.0002\n",
        "beta1 = 0.5"
      ]
    },
    {
      "cell_type": "code",
      "execution_count": null,
      "metadata": {
        "id": "YEdgnOSLi3V3"
      },
      "outputs": [],
      "source": [
        "dataset = dset.ImageFolder(root=dataroot,\n",
        "                           transform=transforms.Compose([\n",
        "                               transforms.Resize(image_size),\n",
        "                               transforms.CenterCrop(image_size),\n",
        "                               transforms.ToTensor(),\n",
        "                               transforms.Normalize((0.5, 0.5, 0.5), (0.5, 0.5, 0.5)),\n",
        "                           ]))\n",
        "\n",
        "dataloader = torch.utils.data.DataLoader(dataset, batch_size=batch_size,\n",
        "                                         shuffle=True, num_workers=workers, drop_last=True)\n",
        "\n",
        "device = torch.device(\"cuda:0\" if (torch.cuda.is_available()) else \"cpu\")\n",
        "\n",
        "real_batch = next(iter(dataloader))\n",
        "plt.figure(figsize=(8,8))\n",
        "plt.axis(\"off\")\n",
        "plt.title(\"Training Images\")\n",
        "plt.imshow(np.transpose(vutils.make_grid(real_batch[0].to(device)[:64], padding=2, normalize=True).cpu(),(1,2,0)))"
      ]
    },
    {
      "cell_type": "code",
      "execution_count": null,
      "metadata": {
        "id": "3USUgLoejDRc"
      },
      "outputs": [],
      "source": [
        "def weights_init(m):\n",
        "    classname = m.__class__.__name__\n",
        "    if classname.find('Conv') != -1:\n",
        "        nn.init.normal_(m.weight.data, 0.0, 0.02)\n",
        "    elif classname.find('BatchNorm') != -1:\n",
        "        nn.init.normal_(m.weight.data, 1.0, 0.02)\n",
        "        nn.init.constant_(m.bias.data, 0)"
      ]
    },
    {
      "cell_type": "code",
      "execution_count": null,
      "metadata": {
        "id": "utUDrAjDjIgd"
      },
      "outputs": [],
      "source": [
        "class Generator(nn.Module):\n",
        "    def __init__(self):\n",
        "        super(Generator, self).__init__()\n",
        "        self.main = nn.Sequential(\n",
        "            nn.ConvTranspose2d( nz, ngf * 8, 4, 1, 0, bias=False),\n",
        "            nn.BatchNorm2d(ngf * 8),\n",
        "            nn.ReLU(True),\n",
        "            nn.ConvTranspose2d(ngf * 8, ngf * 4, 4, 2, 1, bias=False),\n",
        "            nn.BatchNorm2d(ngf * 4),\n",
        "            nn.ReLU(True),\n",
        "            nn.ConvTranspose2d( ngf * 4, ngf * 2, 4, 2, 1, bias=False),\n",
        "            nn.BatchNorm2d(ngf * 2),\n",
        "            nn.ReLU(True),\n",
        "            nn.ConvTranspose2d( ngf * 2, ngf, 4, 2, 1, bias=False),\n",
        "            nn.BatchNorm2d(ngf),\n",
        "            nn.ReLU(True),\n",
        "            nn.ConvTranspose2d( ngf, nc, 4, 2, 1, bias=False),\n",
        "            nn.Tanh()\n",
        "        )\n",
        "\n",
        "    def forward(self, input):\n",
        "        return self.main(input)"
      ]
    },
    {
      "cell_type": "code",
      "execution_count": null,
      "metadata": {
        "id": "3D0nHqlCjOKA"
      },
      "outputs": [],
      "source": [
        "netG = Generator().to(device)\n",
        "netG.apply(weights_init)\n",
        "print(netG)"
      ]
    },
    {
      "cell_type": "code",
      "execution_count": null,
      "metadata": {
        "id": "vM9K4wLRjYAv"
      },
      "outputs": [],
      "source": [
        "class Discriminator(nn.Module):\n",
        "    def __init__(self):\n",
        "        super(Discriminator, self).__init__()\n",
        "        self.main = nn.Sequential(\n",
        "            nn.Conv2d(nc, ndf, 4, 2, 1, bias=False),\n",
        "            nn.LeakyReLU(0.2, inplace=True),\n",
        "            nn.Conv2d(ndf, ndf * 2, 4, 2, 1, bias=False),\n",
        "            nn.BatchNorm2d(ndf * 2),\n",
        "            nn.LeakyReLU(0.2, inplace=True),\n",
        "            nn.Conv2d(ndf * 2, ndf * 4, 4, 2, 1, bias=False),\n",
        "            nn.BatchNorm2d(ndf * 4),\n",
        "            nn.LeakyReLU(0.2, inplace=True),\n",
        "            nn.Conv2d(ndf * 4, ndf * 8, 4, 2, 1, bias=False),\n",
        "            nn.BatchNorm2d(ndf * 8),\n",
        "            nn.LeakyReLU(0.2, inplace=True),\n",
        "            nn.Conv2d(ndf * 8, 1, 4, 1, 0, bias=False),\n",
        "            nn.Sigmoid()\n",
        "        )\n",
        "\n",
        "    def forward(self, input):\n",
        "        return self.main(input)"
      ]
    },
    {
      "cell_type": "code",
      "execution_count": null,
      "metadata": {
        "id": "_GTFZ2Wfje-o"
      },
      "outputs": [],
      "source": [
        "netD = Discriminator().to(device)\n",
        "netD.apply(weights_init)\n",
        "print(netD)"
      ]
    },
    {
      "cell_type": "code",
      "execution_count": null,
      "metadata": {
        "id": "v6Kvxnixknrn"
      },
      "outputs": [],
      "source": [
        "def plot_losses_and_samples(G_losses, D_losses, dataloader, img_list, ssim_list, fid_list, iters, plot_every):\n",
        "  plt.figure(figsize=(40,10))\n",
        "  plt.subplot(1,3,1)\n",
        "  plt.title(\"Generator and Discriminator Loss During Training\")\n",
        "  st = len(G_losses) // 200 + 1\n",
        "  plt.plot(np.arange(0, len(G_losses), st), G_losses[::st],label=\"G\")\n",
        "  plt.plot(np.arange(0, len(D_losses), st), D_losses[::st],label=\"D\")\n",
        "  plt.xlabel(\"iterations\")\n",
        "  plt.ylabel(\"Loss\")\n",
        "  plt.legend()\n",
        "\n",
        "  plt.subplot(1,3,2)\n",
        "  plt.title(\"SSIM\")\n",
        "  plt.plot(np.arange(0, iters + plot_every, plot_every), ssim_list)\n",
        "  plt.xlabel(\"iterations\")\n",
        "  plt.ylabel(\"SSIM\")\n",
        "\n",
        "  plt.subplot(1,3,3)\n",
        "  plt.title(\"FID\")\n",
        "  plt.plot(np.arange(0, iters + plot_every, plot_every), fid_list)\n",
        "  plt.xlabel(\"iterations\")\n",
        "  plt.ylabel(\"FID\")\n",
        "  plt.show()\n",
        "\n",
        "  real_batch = next(iter(dataloader))\n",
        "\n",
        "  plt.figure(figsize=(15,15))\n",
        "  plt.subplot(1,2,1)\n",
        "  plt.axis(\"off\")\n",
        "  plt.title(\"Real Images\")\n",
        "  plt.imshow(np.transpose(vutils.make_grid(real_batch[0].to(device)[:64], padding=5, normalize=True).cpu(),(1,2,0)))\n",
        "\n",
        "  plt.subplot(1,2,2)\n",
        "  plt.axis(\"off\")\n",
        "  plt.title(\"Fake Images (iter \" + str(iters) + \")\")\n",
        "  plt.imshow(np.transpose(img_list[-1],(1,2,0)))\n",
        "  plt.show()"
      ]
    },
    {
      "cell_type": "code",
      "execution_count": null,
      "metadata": {
        "id": "ZhyUqnG2jlLP"
      },
      "outputs": [],
      "source": [
        "criterion = nn.BCELoss()\n",
        "\n",
        "fixed_noise = torch.randn(64, nz, 1, 1, device=device)\n",
        "\n",
        "real_label = 1.\n",
        "fake_label = 0.\n",
        "\n",
        "optimizerD = optim.Adam(netD.parameters(), lr=lr, betas=(beta1, 0.999))\n",
        "optimizerG = optim.Adam(netG.parameters(), lr=lr, betas=(beta1, 0.999))"
      ]
    },
    {
      "cell_type": "code",
      "execution_count": null,
      "metadata": {
        "id": "D3dK7z-Q4rEW"
      },
      "outputs": [],
      "source": [
        "from piq import FID\n",
        "from piq import ssim, SSIMLoss\n",
        "\n",
        "def collate_fn(data):\n",
        "  return {'images' : torch.stack([data[0][0]])}\n",
        "\n",
        "def calc_ssim_and_fid(dataset, n_pics=1000):\n",
        "  real_pics = []\n",
        "  for _ in range(n_pics):\n",
        "    idx = torch.randint(len(dataset), (1,))\n",
        "    real_pics.append(dataset[idx][0])\n",
        "  real_pics = torch.stack(real_pics)\n",
        "\n",
        "  random_noise = torch.randn(n_pics, nz, 1, 1, device=device)\n",
        "  with torch.no_grad():\n",
        "      fake_pics = netG(random_noise).detach().cpu()\n",
        "\n",
        "  fake_pics += 1\n",
        "  fake_pics /= 2\n",
        "  real_pics += 1\n",
        "  real_pics /= 2\n",
        "\n",
        "  fake_dataset = torch.utils.data.TensorDataset(fake_pics)\n",
        "  real_dataset = torch.utils.data.TensorDataset(real_pics)\n",
        "\n",
        "  fake_dataloader = torch.utils.data.DataLoader(dataset = fake_dataset, batch_size=1, collate_fn=collate_fn)\n",
        "  real_dataloader = torch.utils.data.DataLoader(dataset = real_dataset, batch_size=1, collate_fn=collate_fn)\n",
        "\n",
        "  fid_metric = FID()\n",
        "  fake_feats = fid_metric.compute_feats(fake_dataloader)\n",
        "  real_feats = fid_metric.compute_feats(real_dataloader)\n",
        "  fid = fid_metric(fake_feats, real_feats)\n",
        "\n",
        "  ssim_index = ssim(real_pics, fake_pics, data_range=1.)\n",
        "  return ssim_index, fid"
      ]
    },
    {
      "cell_type": "code",
      "execution_count": null,
      "metadata": {
        "id": "vKc-tJONjqqQ"
      },
      "outputs": [],
      "source": [
        "from tqdm import tqdm\n",
        "\n",
        "img_list = []\n",
        "G_losses = []\n",
        "D_losses = []\n",
        "ssim_list = []\n",
        "fid_list = []\n",
        "plot_every = 1000\n",
        "iters = 0\n",
        "\n",
        "for epoch in range(num_epochs):\n",
        "    for i, data in enumerate(dataloader, 0):\n",
        "        netD.zero_grad()\n",
        "        real_cpu = data[0].to(device)\n",
        "        b_size = real_cpu.size(0)\n",
        "        label = torch.full((b_size,), real_label, dtype=torch.float, device=device)\n",
        "        output = netD(real_cpu).view(-1)\n",
        "        errD_real = criterion(output, label)\n",
        "        errD_real.backward()\n",
        "        D_x = output.mean().item()\n",
        "\n",
        "        noise = torch.randn(b_size, nz, 1, 1, device=device)\n",
        "        fake = netG(noise)\n",
        "        label.fill_(fake_label)\n",
        "        output = netD(fake.detach()).view(-1)\n",
        "        errD_fake = criterion(output, label)\n",
        "        errD_fake.backward()\n",
        "        D_G_z1 = output.mean().item()\n",
        "\n",
        "        errD = errD_real + errD_fake\n",
        "        optimizerD.step()\n",
        "\n",
        "\n",
        "        netG.zero_grad()\n",
        "        label.fill_(real_label)\n",
        "        output = netD(fake).view(-1)\n",
        "        errG = criterion(output, label)\n",
        "        errG.backward()\n",
        "        D_G_z2 = output.mean().item()\n",
        "        optimizerG.step()\n",
        "\n",
        "        G_losses.append(errG.item())\n",
        "        D_losses.append(errD.item())\n",
        "\n",
        "        # if i % 50 == 0:\n",
        "        #     print('[%d/%d][%d/%d]\\tLoss_D: %.4f\\tLoss_G: %.4f\\tD(x): %.4f\\tD(G(z)): %.4f / %.4f'\n",
        "        #           % (epoch, num_epochs, i, len(dataloader),\n",
        "        #              errD.item(), errG.item(), D_x, D_G_z1, D_G_z2))\n",
        "\n",
        "        if (iters % plot_every == 0) or ((epoch == num_epochs-1) and (i == len(dataloader)-1)):\n",
        "            with torch.no_grad():\n",
        "                fake = netG(fixed_noise).detach().cpu()\n",
        "            img_list.append(vutils.make_grid(fake, padding=2, normalize=True))\n",
        "            ssim_index, fid = calc_ssim_and_fid(dataset)\n",
        "            ssim_list.append(ssim_index)\n",
        "            fid_list.append(fid)\n",
        "            plot_losses_and_samples(G_losses, D_losses, dataloader, img_list, ssim_list, fid_list, iters, plot_every)\n",
        "            torch.save({'epoch': epoch, 'netD_state_dict': netD.state_dict(), 'netG_state_dict': netG.state_dict(), 'optimizerD_state_dict': optimizerD.state_dict(), 'optimizerG_state_dict': optimizerG.state_dict()}, \"drive/MyDrive/bhw2images/checkpoint_\" + str(iters)+\".tar\")\n",
        "        iters += 1"
      ]
    },
    {
      "cell_type": "code",
      "execution_count": null,
      "metadata": {
        "id": "AU4A257EbX4P"
      },
      "outputs": [],
      "source": [
        "dataloader = torch.utils.data.DataLoader(dataset, batch_size=batch_size,\n",
        "                                         shuffle=True, num_workers=workers, drop_last=True)"
      ]
    },
    {
      "cell_type": "code",
      "execution_count": null,
      "metadata": {
        "colab": {
          "background_save": true
        },
        "id": "9yh8D6eSahkz"
      },
      "outputs": [],
      "source": [
        "for epoch in range(num_epochs):\n",
        "    for i, data in enumerate(dataloader, 0):\n",
        "        netD.zero_grad()\n",
        "        real_cpu = data[0].to(device)\n",
        "        b_size = real_cpu.size(0)\n",
        "        label = torch.full((b_size,), real_label, dtype=torch.float, device=device)\n",
        "        output = netD(real_cpu).view(-1)\n",
        "        errD_real = criterion(output, label)\n",
        "        errD_real.backward()\n",
        "        D_x = output.mean().item()\n",
        "\n",
        "        noise = torch.randn(b_size, nz, 1, 1, device=device)\n",
        "        fake = netG(noise)\n",
        "        label.fill_(fake_label)\n",
        "        output = netD(fake.detach()).view(-1)\n",
        "        errD_fake = criterion(output, label)\n",
        "        errD_fake.backward()\n",
        "        D_G_z1 = output.mean().item()\n",
        "\n",
        "        errD = errD_real + errD_fake\n",
        "        optimizerD.step()\n",
        "\n",
        "\n",
        "        netG.zero_grad()\n",
        "        label.fill_(real_label)\n",
        "        output = netD(fake).view(-1)\n",
        "        errG = criterion(output, label)\n",
        "        errG.backward()\n",
        "        D_G_z2 = output.mean().item()\n",
        "        optimizerG.step()\n",
        "\n",
        "        G_losses.append(errG.item())\n",
        "        D_losses.append(errD.item())\n",
        "\n",
        "        # if i % 50 == 0:\n",
        "        #     print('[%d/%d][%d/%d]\\tLoss_D: %.4f\\tLoss_G: %.4f\\tD(x): %.4f\\tD(G(z)): %.4f / %.4f'\n",
        "        #           % (epoch, num_epochs, i, len(dataloader),\n",
        "        #              errD.item(), errG.item(), D_x, D_G_z1, D_G_z2))\n",
        "\n",
        "        if (iters % plot_every == 0) or ((epoch == num_epochs-1) and (i == len(dataloader)-1)):\n",
        "            with torch.no_grad():\n",
        "                fake = netG(fixed_noise).detach().cpu()\n",
        "            img_list.append(vutils.make_grid(fake, padding=2, normalize=True))\n",
        "            ssim_index, fid = calc_ssim_and_fid(dataset)\n",
        "            ssim_list.append(ssim_index)\n",
        "            fid_list.append(fid)\n",
        "            plot_losses_and_samples(G_losses, D_losses, dataloader, img_list, ssim_list, fid_list, iters, plot_every)\n",
        "            torch.save({'epoch': epoch, 'netD_state_dict': netD.state_dict(), 'netG_state_dict': netG.state_dict(), 'optimizerD_state_dict': optimizerD.state_dict(), 'optimizerG_state_dict': optimizerG.state_dict()}, \"drive/MyDrive/bhw2images/checkpoint_\" + str(iters)+\".tar\")\n",
        "        iters += 1"
      ]
    },
    {
      "cell_type": "code",
      "execution_count": null,
      "metadata": {
        "id": "G-qTsMOCw9pZ"
      },
      "outputs": [],
      "source": [
        "def calc_ssim_and_fid_on_real_data(dataset, n_pics=1000):\n",
        "  real_pics = []\n",
        "  for _ in range(n_pics):\n",
        "    idx = torch.randint(len(dataset), (1,))\n",
        "    real_pics.append(dataset[idx][0])\n",
        "  real_pics = torch.stack(real_pics)\n",
        "\n",
        "  fake_pics = []\n",
        "  for _ in range(n_pics):\n",
        "    idx = torch.randint(len(dataset), (1,))\n",
        "    fake_pics.append(dataset[idx][0])\n",
        "  fake_pics = torch.stack(fake_pics)\n",
        "\n",
        "  fake_pics += 1\n",
        "  fake_pics /= 2\n",
        "  real_pics += 1\n",
        "  real_pics /= 2\n",
        "\n",
        "  fake_dataset = torch.utils.data.TensorDataset(fake_pics)\n",
        "  real_dataset = torch.utils.data.TensorDataset(real_pics)\n",
        "\n",
        "  fake_dataloader = torch.utils.data.DataLoader(dataset = fake_dataset, batch_size=1, collate_fn=collate_fn)\n",
        "  real_dataloader = torch.utils.data.DataLoader(dataset = real_dataset, batch_size=1, collate_fn=collate_fn)\n",
        "\n",
        "  fid_metric = FID()\n",
        "  fake_feats = fid_metric.compute_feats(fake_dataloader)\n",
        "  real_feats = fid_metric.compute_feats(real_dataloader)\n",
        "  fid = fid_metric(fake_feats, real_feats)\n",
        "\n",
        "  ssim_index = ssim(real_pics, fake_pics, data_range=1.)\n",
        "  return ssim_index, fid"
      ]
    },
    {
      "cell_type": "code",
      "execution_count": null,
      "metadata": {
        "colab": {
          "background_save": true
        },
        "id": "4TbxAmNHxXnx"
      },
      "outputs": [],
      "source": [
        "ssim_index, fid = calc_ssim_and_fid_on_real_data(dataset)\n",
        "print(\"SSIM:\", ssim_index)\n",
        "print(\"FID:\", fid)"
      ]
    },
    {
      "cell_type": "markdown",
      "metadata": {
        "id": "YwHSlMSH-T5j"
      },
      "source": [
        "# Model inference\n",
        "\n"
      ]
    },
    {
      "cell_type": "code",
      "execution_count": null,
      "metadata": {
        "id": "oIpWYeTv8Xxm"
      },
      "outputs": [],
      "source": [
        "def inference_model(netG):\n",
        "  real_batch = next(iter(dataloader))\n",
        "\n",
        "  plt.figure(figsize=(15,15))\n",
        "  plt.subplot(1,2,1)\n",
        "  plt.axis(\"off\")\n",
        "  plt.title(\"Real Images\")\n",
        "  plt.imshow(np.transpose(vutils.make_grid(real_batch[0].to(device)[:64], padding=5, normalize=True).cpu(),(1,2,0)))\n",
        "\n",
        "  random_noise = torch.randn(64, nz, 1, 1, device=device)\n",
        "  with torch.no_grad():\n",
        "      fake = netG(random_noise).detach().cpu()\n",
        "  fake = vutils.make_grid(fake, padding=2, normalize=True)\n",
        "\n",
        "  plt.subplot(1,2,2)\n",
        "  plt.axis(\"off\")\n",
        "  plt.title(\"Fake Images\")\n",
        "  plt.imshow(np.transpose(fake,(1,2,0)))\n",
        "  plt.show()"
      ]
    },
    {
      "cell_type": "code",
      "execution_count": null,
      "metadata": {
        "id": "hY905kB--S-l"
      },
      "outputs": [],
      "source": [
        "path = \"/content/drive/MyDrive/bhw2images/checkpoint_222000.tar\"\n",
        "checkpoint = torch.load(path)\n",
        "netG.load_state_dict(checkpoint[\"netG_state_dict\"])"
      ]
    },
    {
      "cell_type": "code",
      "execution_count": null,
      "metadata": {
        "id": "4S3YITQqB0ZI"
      },
      "outputs": [],
      "source": [
        "inference_model(netG)"
      ]
    },
    {
      "cell_type": "code",
      "execution_count": null,
      "metadata": {
        "id": "LFirIjzsDKTk"
      },
      "outputs": [],
      "source": [
        "ssim_index, fid = calc_ssim_and_fid(dataset)\n",
        "print(\"SSIM:\", ssim_index)\n",
        "print(\"FID:\", fid)"
      ]
    },
    {
      "cell_type": "code",
      "execution_count": null,
      "metadata": {
        "id": "4SgxADevHNV5"
      },
      "outputs": [],
      "source": [
        "path = \"/content/drive/MyDrive/bhw2images/checkpoint_107000.tar\"\n",
        "checkpoint = torch.load(path)\n",
        "netG.load_state_dict(checkpoint[\"netG_state_dict\"])"
      ]
    },
    {
      "cell_type": "code",
      "execution_count": null,
      "metadata": {
        "id": "B_YWu_gpHQfi"
      },
      "outputs": [],
      "source": [
        "inference_model(netG)"
      ]
    },
    {
      "cell_type": "code",
      "execution_count": null,
      "metadata": {
        "id": "siKE64caHSFQ"
      },
      "outputs": [],
      "source": [
        "ssim_index, fid = calc_ssim_and_fid(dataset)\n",
        "print(\"SSIM:\", ssim_index)\n",
        "print(\"FID:\", fid)"
      ]
    }
  ],
  "metadata": {
    "accelerator": "GPU",
    "colab": {
      "machine_shape": "hm",
      "provenance": []
    },
    "kernelspec": {
      "display_name": "Python 3",
      "name": "python3"
    },
    "language_info": {
      "name": "python"
    }
  },
  "nbformat": 4,
  "nbformat_minor": 0
}